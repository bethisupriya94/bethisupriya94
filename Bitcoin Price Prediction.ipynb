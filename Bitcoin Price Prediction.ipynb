{
 "cells": [
  {
   "cell_type": "code",
   "execution_count": 1,
   "id": "f20aaf9c",
   "metadata": {},
   "outputs": [],
   "source": [
    "import statsmodels.formula.api as smf\n",
    "import sklearn.metrics as sm\n",
    "import pandas as pd\n",
    "import numpy as np\n",
    "import math\n",
    "import sys"
   ]
  },
  {
   "cell_type": "code",
   "execution_count": 2,
   "id": "acdad9e0",
   "metadata": {},
   "outputs": [],
   "source": [
    "train1_90 = pd.read_csv('train1_90.csv')\n",
    "train1_180 = pd.read_csv('train1_180.csv')\n",
    "train1_360 = pd.read_csv('train1_360.csv')\n",
    "\n",
    "train2_90 = pd.read_csv('train2_90.csv')\n",
    "train2_180 = pd.read_csv('train2_180.csv')\n",
    "train2_360 = pd.read_csv('train2_360.csv')\n",
    "\n",
    "test_90 = pd.read_csv('test_90.csv')\n",
    "test_180 = pd.read_csv('test_180.csv')\n",
    "test_360 = pd.read_csv('test_360.csv')"
   ]
  },
  {
   "cell_type": "code",
   "execution_count": 3,
   "id": "463f12ae",
   "metadata": {},
   "outputs": [],
   "source": [
    "def similarity(a,b):\n",
    "    a_mean = np.mean(a)\n",
    "    b_mean = np.mean(b)\n",
    "    nr = np.dot(a - a_mean,b - b_mean)\n",
    "    dr = len(a) * np.std(a) * np.std(b)\n",
    "    similarity = nr/dr\n",
    "    return similarity"
   ]
  },
  {
   "cell_type": "code",
   "execution_count": 4,
   "id": "adb22853",
   "metadata": {},
   "outputs": [],
   "source": [
    "def computeDelta(wt, X, Xi):\n",
    "    similarity_vector = Xi.iloc[:,:-1].apply(lambda x : similarity(x,X[:-1]),axis = 1)\n",
    "    similarity_exp = np.exp(wt * similarity_vector)\n",
    "    price_change = np.dot(Xi.iloc[:,-1],similarity_exp)/np.sum(similarity_exp)\n",
    "    return price_change"
   ]
  },
  {
   "cell_type": "code",
   "execution_count": 5,
   "id": "e82105bf",
   "metadata": {},
   "outputs": [],
   "source": [
    "weight = 2\n",
    "trainDeltaP90 = np.empty(0)\n",
    "trainDeltaP180 = np.empty(0)\n",
    "trainDeltaP360 = np.empty(0)\n",
    "for i in range(0,len(train1_90.index)) :\n",
    "  trainDeltaP90 = np.append(trainDeltaP90, computeDelta(weight,train2_90.iloc[i],train1_90))\n",
    "for i in range(0,len(train1_180.index)) :\n",
    "  trainDeltaP180 = np.append(trainDeltaP180, computeDelta(weight,train2_180.iloc[i],train1_180))\n",
    "for i in range(0,len(train1_360.index)) :\n",
    "  trainDeltaP360 = np.append(trainDeltaP360, computeDelta(weight,train2_360.iloc[i],train1_360))"
   ]
  },
  {
   "cell_type": "code",
   "execution_count": 6,
   "id": "b991eb65",
   "metadata": {},
   "outputs": [],
   "source": [
    "trainDeltaP = np.asarray(train2_360[['Yi']])\n",
    "trainDeltaP = np.reshape(trainDeltaP, -1)\n",
    "\n",
    "\n",
    "# Combine all the training data\n",
    "d = {'deltaP': trainDeltaP,\n",
    "     'deltaP90': trainDeltaP90,\n",
    "     'deltaP180': trainDeltaP180,\n",
    "     'deltaP360': trainDeltaP360 }\n",
    "trainData = pd.DataFrame(d)"
   ]
  },
  {
   "cell_type": "code",
   "execution_count": 7,
   "id": "a713b5db",
   "metadata": {},
   "outputs": [
    {
     "name": "stdout",
     "output_type": "stream",
     "text": [
      "Intercept    -0.307294\n",
      "deltaP90     14.254037\n",
      "deltaP180   -25.938119\n",
      "deltaP360    13.255519\n",
      "dtype: float64\n"
     ]
    }
   ],
   "source": [
    "model = smf.ols(formula = 'deltaP ~ deltaP90 + deltaP180 + deltaP360',data = trainData).fit()\n",
    "print(model.params)"
   ]
  },
  {
   "cell_type": "code",
   "execution_count": 8,
   "id": "cb820257",
   "metadata": {},
   "outputs": [],
   "source": [
    "testDeltaP90 = np.empty(0)\n",
    "testDeltaP180 = np.empty(0)\n",
    "testDeltaP360 = np.empty(0)\n",
    "for i in range(0,len(train1_90.index)) :\n",
    "  testDeltaP90 = np.append(testDeltaP90, computeDelta(weight,test_90.iloc[i],train1_90))\n",
    "for i in range(0,len(train1_180.index)) :\n",
    "  testDeltaP180 = np.append(testDeltaP180, computeDelta(weight,test_180.iloc[i],train1_180))\n",
    "for i in range(0,len(train1_360.index)) :\n",
    "  testDeltaP360 = np.append(testDeltaP360, computeDelta(weight,test_360.iloc[i],train1_360))"
   ]
  },
  {
   "cell_type": "code",
   "execution_count": 9,
   "id": "f16a3432",
   "metadata": {},
   "outputs": [],
   "source": [
    "# Actual deltaP values for test data.\n",
    "testDeltaP = np.asarray(test_360[['Yi']])\n",
    "testDeltaP = np.reshape(testDeltaP, -1)"
   ]
  },
  {
   "cell_type": "code",
   "execution_count": 10,
   "id": "06050410",
   "metadata": {},
   "outputs": [],
   "source": [
    "# Combine all the test data\n",
    "d = {'deltaP': testDeltaP,\n",
    "     'deltaP90': testDeltaP90,\n",
    "     'deltaP180': testDeltaP180,\n",
    "     'deltaP360': testDeltaP360}\n",
    "testData = pd.DataFrame(d)"
   ]
  },
  {
   "cell_type": "code",
   "execution_count": 11,
   "id": "bcd6900d",
   "metadata": {},
   "outputs": [],
   "source": [
    "# Predict price variation on the test data set.\n",
    "result = model.predict(testData)\n",
    "compare = { 'Actual': testDeltaP,\n",
    "            'Predicted': result }\n",
    "compareDF = pd.DataFrame(compare)"
   ]
  },
  {
   "cell_type": "code",
   "execution_count": 12,
   "id": "2d3d4d97",
   "metadata": {},
   "outputs": [
    {
     "name": "stdout",
     "output_type": "stream",
     "text": [
      "The MSE is 0.953199\n"
     ]
    }
   ],
   "source": [
    "# Compute the MSE and print the result\n",
    "MSE = 0.0\n",
    "MSE = sm.mean_squared_error(y_true=testDeltaP,y_pred=result)\n",
    "print(\"The MSE is %f\" % (MSE))"
   ]
  },
  {
   "cell_type": "code",
   "execution_count": null,
   "id": "67714b60",
   "metadata": {},
   "outputs": [],
   "source": []
  }
 ],
 "metadata": {
  "kernelspec": {
   "display_name": "Python 3",
   "language": "python",
   "name": "python3"
  },
  "language_info": {
   "codemirror_mode": {
    "name": "ipython",
    "version": 3
   },
   "file_extension": ".py",
   "mimetype": "text/x-python",
   "name": "python",
   "nbconvert_exporter": "python",
   "pygments_lexer": "ipython3",
   "version": "3.8.8"
  }
 },
 "nbformat": 4,
 "nbformat_minor": 5
}
